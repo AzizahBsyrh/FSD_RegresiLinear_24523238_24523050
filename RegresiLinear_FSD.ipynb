{
  "nbformat": 4,
  "nbformat_minor": 0,
  "metadata": {
    "colab": {
      "provenance": [],
      "include_colab_link": true
    },
    "kernelspec": {
      "name": "python3",
      "display_name": "Python 3"
    },
    "language_info": {
      "name": "python"
    }
  },
  "cells": [
    {
      "cell_type": "markdown",
      "metadata": {
        "id": "view-in-github",
        "colab_type": "text"
      },
      "source": [
        "<a href=\"https://colab.research.google.com/github/AzizahBsyrh/FSD_RegresiLinear_24523238_24523050/blob/main/RegresiLinear_FSD.ipynb\" target=\"_parent\"><img src=\"https://colab.research.google.com/assets/colab-badge.svg\" alt=\"Open In Colab\"/></a>"
      ]
    },
    {
      "cell_type": "markdown",
      "source": [
        "Nama:\n",
        "\n",
        "*   Nur Azizah Basyirah Syamsuddin (2423238)\n",
        "*   Naila Reyhantyas Nurkhalisha (24523050)\n",
        "\n"
      ],
      "metadata": {
        "id": "pcThoofc-TOe"
      }
    },
    {
      "cell_type": "markdown",
      "source": [
        "**1. Persiapan Data**\n",
        "\n",
        "**Import lib**\n",
        "*   pandas as pd untuk mengimpor library pandas untuk bekerja dengan data dalam bentuk DataFrame\n",
        "*   numpy as np untuk mengimpor library numpy untuk operasi numerik\n",
        "*   matplotlib.pyplot as plt untuk mengimpor modul pyplot dari matplotlib untuk membuat visualisasi data\n",
        "*   train_test_split dari sklearn.model_linear_modelselection untuk mengimpor fungsi untuk membagi dataset menjadi data pelatihan dan data pengujian\n",
        "*   LinearRegression dari sklearn.linear_model untuk mengimpor model regresi linear dari scikit-learn\n",
        "*   mean_squared_error, r2_score dari sklearn.metrics untuk mengimpor metrik untuk mengevaluasi performa model, yaitu Mean Squared Error (MSE) dan R2 Score"
      ],
      "metadata": {
        "id": "ac2og26AP7uJ"
      }
    },
    {
      "cell_type": "code",
      "source": [
        "import pandas as pd\n",
        "import numpy as np\n",
        "import matplotlib.pyplot as plt\n",
        "from sklearn.model_selection import train_test_split\n",
        "from sklearn.linear_model import LinearRegression\n",
        "from sklearn.metrics import mean_squared_error, r2_score"
      ],
      "metadata": {
        "id": "lqzkUKnRUNs1"
      },
      "execution_count": 171,
      "outputs": []
    },
    {
      "cell_type": "markdown",
      "source": [
        "**Pilih dataset publik**\n",
        "\n",
        "Kami memilih Energy Efficiency Dataset\n",
        "\n",
        "Kode ini mengunduh file Excel dari URL yang diberikan dan memuatnya ke dalam DataFrame pandas bernama df."
      ],
      "metadata": {
        "id": "LdOgyRGaP9w3"
      }
    },
    {
      "cell_type": "code",
      "source": [
        "url = 'https://media.geeksforgeeks.org/wp-content/uploads/20240522153920/ENB2012_data%5B1%5D.xlsx'\n",
        "df = pd.read_excel(url)"
      ],
      "metadata": {
        "id": "2Gkoy9QqUEah"
      },
      "execution_count": 172,
      "outputs": []
    },
    {
      "cell_type": "markdown",
      "source": [
        "**Deskripsi dataset**\n",
        "\n",
        "\n",
        "\n",
        "*   Dataset Source: Energy Efficiency Dataset\n",
        "*   Labels: Continuous values representing heating and cooling loads (energy efficiency measures).\n",
        "\n",
        "\n",
        "*   Size: 768 samples each with 8 attributes.\n",
        "*   Data: Numerical data\n",
        "\n",
        "\n",
        "\n"
      ],
      "metadata": {
        "id": "Smw0MOabQUM2"
      }
    },
    {
      "cell_type": "markdown",
      "source": [
        "**2. Eksplorasi Data (EDA)**"
      ],
      "metadata": {
        "id": "GVm_0ZJ3W1lM"
      }
    },
    {
      "cell_type": "markdown",
      "source": [
        "**Tampilan beberapa baris data**\n",
        "\n",
        "Kode display(df.head()) digunakan untuk menampilkan lima baris pertama dari DataFrame df.\n",
        "\n",
        "\n"
      ],
      "metadata": {
        "id": "gSn71IflVZy_"
      }
    },
    {
      "cell_type": "code",
      "source": [
        "display(df.head())"
      ],
      "metadata": {
        "colab": {
          "base_uri": "https://localhost:8080/",
          "height": 206
        },
        "id": "YeWHA6ggVVSJ",
        "outputId": "ab6764c0-cd8b-4a0f-fbd6-74787e6f7f95"
      },
      "execution_count": 173,
      "outputs": [
        {
          "output_type": "display_data",
          "data": {
            "text/plain": [
              "     X1     X2     X3      X4   X5  X6   X7  X8     Y1     Y2\n",
              "0  0.98  514.5  294.0  110.25  7.0   2  0.0   0  15.55  21.33\n",
              "1  0.98  514.5  294.0  110.25  7.0   3  0.0   0  15.55  21.33\n",
              "2  0.98  514.5  294.0  110.25  7.0   4  0.0   0  15.55  21.33\n",
              "3  0.98  514.5  294.0  110.25  7.0   5  0.0   0  15.55  21.33\n",
              "4  0.90  563.5  318.5  122.50  7.0   2  0.0   0  20.84  28.28"
            ],
            "text/html": [
              "\n",
              "  <div id=\"df-2305ad79-70a7-49bd-9213-ab34aa1eda70\" class=\"colab-df-container\">\n",
              "    <div>\n",
              "<style scoped>\n",
              "    .dataframe tbody tr th:only-of-type {\n",
              "        vertical-align: middle;\n",
              "    }\n",
              "\n",
              "    .dataframe tbody tr th {\n",
              "        vertical-align: top;\n",
              "    }\n",
              "\n",
              "    .dataframe thead th {\n",
              "        text-align: right;\n",
              "    }\n",
              "</style>\n",
              "<table border=\"1\" class=\"dataframe\">\n",
              "  <thead>\n",
              "    <tr style=\"text-align: right;\">\n",
              "      <th></th>\n",
              "      <th>X1</th>\n",
              "      <th>X2</th>\n",
              "      <th>X3</th>\n",
              "      <th>X4</th>\n",
              "      <th>X5</th>\n",
              "      <th>X6</th>\n",
              "      <th>X7</th>\n",
              "      <th>X8</th>\n",
              "      <th>Y1</th>\n",
              "      <th>Y2</th>\n",
              "    </tr>\n",
              "  </thead>\n",
              "  <tbody>\n",
              "    <tr>\n",
              "      <th>0</th>\n",
              "      <td>0.98</td>\n",
              "      <td>514.5</td>\n",
              "      <td>294.0</td>\n",
              "      <td>110.25</td>\n",
              "      <td>7.0</td>\n",
              "      <td>2</td>\n",
              "      <td>0.0</td>\n",
              "      <td>0</td>\n",
              "      <td>15.55</td>\n",
              "      <td>21.33</td>\n",
              "    </tr>\n",
              "    <tr>\n",
              "      <th>1</th>\n",
              "      <td>0.98</td>\n",
              "      <td>514.5</td>\n",
              "      <td>294.0</td>\n",
              "      <td>110.25</td>\n",
              "      <td>7.0</td>\n",
              "      <td>3</td>\n",
              "      <td>0.0</td>\n",
              "      <td>0</td>\n",
              "      <td>15.55</td>\n",
              "      <td>21.33</td>\n",
              "    </tr>\n",
              "    <tr>\n",
              "      <th>2</th>\n",
              "      <td>0.98</td>\n",
              "      <td>514.5</td>\n",
              "      <td>294.0</td>\n",
              "      <td>110.25</td>\n",
              "      <td>7.0</td>\n",
              "      <td>4</td>\n",
              "      <td>0.0</td>\n",
              "      <td>0</td>\n",
              "      <td>15.55</td>\n",
              "      <td>21.33</td>\n",
              "    </tr>\n",
              "    <tr>\n",
              "      <th>3</th>\n",
              "      <td>0.98</td>\n",
              "      <td>514.5</td>\n",
              "      <td>294.0</td>\n",
              "      <td>110.25</td>\n",
              "      <td>7.0</td>\n",
              "      <td>5</td>\n",
              "      <td>0.0</td>\n",
              "      <td>0</td>\n",
              "      <td>15.55</td>\n",
              "      <td>21.33</td>\n",
              "    </tr>\n",
              "    <tr>\n",
              "      <th>4</th>\n",
              "      <td>0.90</td>\n",
              "      <td>563.5</td>\n",
              "      <td>318.5</td>\n",
              "      <td>122.50</td>\n",
              "      <td>7.0</td>\n",
              "      <td>2</td>\n",
              "      <td>0.0</td>\n",
              "      <td>0</td>\n",
              "      <td>20.84</td>\n",
              "      <td>28.28</td>\n",
              "    </tr>\n",
              "  </tbody>\n",
              "</table>\n",
              "</div>\n",
              "    <div class=\"colab-df-buttons\">\n",
              "\n",
              "  <div class=\"colab-df-container\">\n",
              "    <button class=\"colab-df-convert\" onclick=\"convertToInteractive('df-2305ad79-70a7-49bd-9213-ab34aa1eda70')\"\n",
              "            title=\"Convert this dataframe to an interactive table.\"\n",
              "            style=\"display:none;\">\n",
              "\n",
              "  <svg xmlns=\"http://www.w3.org/2000/svg\" height=\"24px\" viewBox=\"0 -960 960 960\">\n",
              "    <path d=\"M120-120v-720h720v720H120Zm60-500h600v-160H180v160Zm220 220h160v-160H400v160Zm0 220h160v-160H400v160ZM180-400h160v-160H180v160Zm440 0h160v-160H620v160ZM180-180h160v-160H180v160Zm440 0h160v-160H620v160Z\"/>\n",
              "  </svg>\n",
              "    </button>\n",
              "\n",
              "  <style>\n",
              "    .colab-df-container {\n",
              "      display:flex;\n",
              "      gap: 12px;\n",
              "    }\n",
              "\n",
              "    .colab-df-convert {\n",
              "      background-color: #E8F0FE;\n",
              "      border: none;\n",
              "      border-radius: 50%;\n",
              "      cursor: pointer;\n",
              "      display: none;\n",
              "      fill: #1967D2;\n",
              "      height: 32px;\n",
              "      padding: 0 0 0 0;\n",
              "      width: 32px;\n",
              "    }\n",
              "\n",
              "    .colab-df-convert:hover {\n",
              "      background-color: #E2EBFA;\n",
              "      box-shadow: 0px 1px 2px rgba(60, 64, 67, 0.3), 0px 1px 3px 1px rgba(60, 64, 67, 0.15);\n",
              "      fill: #174EA6;\n",
              "    }\n",
              "\n",
              "    .colab-df-buttons div {\n",
              "      margin-bottom: 4px;\n",
              "    }\n",
              "\n",
              "    [theme=dark] .colab-df-convert {\n",
              "      background-color: #3B4455;\n",
              "      fill: #D2E3FC;\n",
              "    }\n",
              "\n",
              "    [theme=dark] .colab-df-convert:hover {\n",
              "      background-color: #434B5C;\n",
              "      box-shadow: 0px 1px 3px 1px rgba(0, 0, 0, 0.15);\n",
              "      filter: drop-shadow(0px 1px 2px rgba(0, 0, 0, 0.3));\n",
              "      fill: #FFFFFF;\n",
              "    }\n",
              "  </style>\n",
              "\n",
              "    <script>\n",
              "      const buttonEl =\n",
              "        document.querySelector('#df-2305ad79-70a7-49bd-9213-ab34aa1eda70 button.colab-df-convert');\n",
              "      buttonEl.style.display =\n",
              "        google.colab.kernel.accessAllowed ? 'block' : 'none';\n",
              "\n",
              "      async function convertToInteractive(key) {\n",
              "        const element = document.querySelector('#df-2305ad79-70a7-49bd-9213-ab34aa1eda70');\n",
              "        const dataTable =\n",
              "          await google.colab.kernel.invokeFunction('convertToInteractive',\n",
              "                                                    [key], {});\n",
              "        if (!dataTable) return;\n",
              "\n",
              "        const docLinkHtml = 'Like what you see? Visit the ' +\n",
              "          '<a target=\"_blank\" href=https://colab.research.google.com/notebooks/data_table.ipynb>data table notebook</a>'\n",
              "          + ' to learn more about interactive tables.';\n",
              "        element.innerHTML = '';\n",
              "        dataTable['output_type'] = 'display_data';\n",
              "        await google.colab.output.renderOutput(dataTable, element);\n",
              "        const docLink = document.createElement('div');\n",
              "        docLink.innerHTML = docLinkHtml;\n",
              "        element.appendChild(docLink);\n",
              "      }\n",
              "    </script>\n",
              "  </div>\n",
              "\n",
              "\n",
              "    <div id=\"df-da494b8d-f373-464c-9d6d-549366c9628f\">\n",
              "      <button class=\"colab-df-quickchart\" onclick=\"quickchart('df-da494b8d-f373-464c-9d6d-549366c9628f')\"\n",
              "                title=\"Suggest charts\"\n",
              "                style=\"display:none;\">\n",
              "\n",
              "<svg xmlns=\"http://www.w3.org/2000/svg\" height=\"24px\"viewBox=\"0 0 24 24\"\n",
              "     width=\"24px\">\n",
              "    <g>\n",
              "        <path d=\"M19 3H5c-1.1 0-2 .9-2 2v14c0 1.1.9 2 2 2h14c1.1 0 2-.9 2-2V5c0-1.1-.9-2-2-2zM9 17H7v-7h2v7zm4 0h-2V7h2v10zm4 0h-2v-4h2v4z\"/>\n",
              "    </g>\n",
              "</svg>\n",
              "      </button>\n",
              "\n",
              "<style>\n",
              "  .colab-df-quickchart {\n",
              "      --bg-color: #E8F0FE;\n",
              "      --fill-color: #1967D2;\n",
              "      --hover-bg-color: #E2EBFA;\n",
              "      --hover-fill-color: #174EA6;\n",
              "      --disabled-fill-color: #AAA;\n",
              "      --disabled-bg-color: #DDD;\n",
              "  }\n",
              "\n",
              "  [theme=dark] .colab-df-quickchart {\n",
              "      --bg-color: #3B4455;\n",
              "      --fill-color: #D2E3FC;\n",
              "      --hover-bg-color: #434B5C;\n",
              "      --hover-fill-color: #FFFFFF;\n",
              "      --disabled-bg-color: #3B4455;\n",
              "      --disabled-fill-color: #666;\n",
              "  }\n",
              "\n",
              "  .colab-df-quickchart {\n",
              "    background-color: var(--bg-color);\n",
              "    border: none;\n",
              "    border-radius: 50%;\n",
              "    cursor: pointer;\n",
              "    display: none;\n",
              "    fill: var(--fill-color);\n",
              "    height: 32px;\n",
              "    padding: 0;\n",
              "    width: 32px;\n",
              "  }\n",
              "\n",
              "  .colab-df-quickchart:hover {\n",
              "    background-color: var(--hover-bg-color);\n",
              "    box-shadow: 0 1px 2px rgba(60, 64, 67, 0.3), 0 1px 3px 1px rgba(60, 64, 67, 0.15);\n",
              "    fill: var(--button-hover-fill-color);\n",
              "  }\n",
              "\n",
              "  .colab-df-quickchart-complete:disabled,\n",
              "  .colab-df-quickchart-complete:disabled:hover {\n",
              "    background-color: var(--disabled-bg-color);\n",
              "    fill: var(--disabled-fill-color);\n",
              "    box-shadow: none;\n",
              "  }\n",
              "\n",
              "  .colab-df-spinner {\n",
              "    border: 2px solid var(--fill-color);\n",
              "    border-color: transparent;\n",
              "    border-bottom-color: var(--fill-color);\n",
              "    animation:\n",
              "      spin 1s steps(1) infinite;\n",
              "  }\n",
              "\n",
              "  @keyframes spin {\n",
              "    0% {\n",
              "      border-color: transparent;\n",
              "      border-bottom-color: var(--fill-color);\n",
              "      border-left-color: var(--fill-color);\n",
              "    }\n",
              "    20% {\n",
              "      border-color: transparent;\n",
              "      border-left-color: var(--fill-color);\n",
              "      border-top-color: var(--fill-color);\n",
              "    }\n",
              "    30% {\n",
              "      border-color: transparent;\n",
              "      border-left-color: var(--fill-color);\n",
              "      border-top-color: var(--fill-color);\n",
              "      border-right-color: var(--fill-color);\n",
              "    }\n",
              "    40% {\n",
              "      border-color: transparent;\n",
              "      border-right-color: var(--fill-color);\n",
              "      border-top-color: var(--fill-color);\n",
              "    }\n",
              "    60% {\n",
              "      border-color: transparent;\n",
              "      border-right-color: var(--fill-color);\n",
              "    }\n",
              "    80% {\n",
              "      border-color: transparent;\n",
              "      border-right-color: var(--fill-color);\n",
              "      border-bottom-color: var(--fill-color);\n",
              "    }\n",
              "    90% {\n",
              "      border-color: transparent;\n",
              "      border-bottom-color: var(--fill-color);\n",
              "    }\n",
              "  }\n",
              "</style>\n",
              "\n",
              "      <script>\n",
              "        async function quickchart(key) {\n",
              "          const quickchartButtonEl =\n",
              "            document.querySelector('#' + key + ' button');\n",
              "          quickchartButtonEl.disabled = true;  // To prevent multiple clicks.\n",
              "          quickchartButtonEl.classList.add('colab-df-spinner');\n",
              "          try {\n",
              "            const charts = await google.colab.kernel.invokeFunction(\n",
              "                'suggestCharts', [key], {});\n",
              "          } catch (error) {\n",
              "            console.error('Error during call to suggestCharts:', error);\n",
              "          }\n",
              "          quickchartButtonEl.classList.remove('colab-df-spinner');\n",
              "          quickchartButtonEl.classList.add('colab-df-quickchart-complete');\n",
              "        }\n",
              "        (() => {\n",
              "          let quickchartButtonEl =\n",
              "            document.querySelector('#df-da494b8d-f373-464c-9d6d-549366c9628f button');\n",
              "          quickchartButtonEl.style.display =\n",
              "            google.colab.kernel.accessAllowed ? 'block' : 'none';\n",
              "        })();\n",
              "      </script>\n",
              "    </div>\n",
              "\n",
              "    </div>\n",
              "  </div>\n"
            ],
            "application/vnd.google.colaboratory.intrinsic+json": {
              "type": "dataframe",
              "summary": "{\n  \"name\": \"display(df\",\n  \"rows\": 5,\n  \"fields\": [\n    {\n      \"column\": \"X1\",\n      \"properties\": {\n        \"dtype\": \"number\",\n        \"std\": 0.03577708763999662,\n        \"min\": 0.9,\n        \"max\": 0.98,\n        \"num_unique_values\": 2,\n        \"samples\": [\n          0.9,\n          0.98\n        ],\n        \"semantic_type\": \"\",\n        \"description\": \"\"\n      }\n    },\n    {\n      \"column\": \"X2\",\n      \"properties\": {\n        \"dtype\": \"number\",\n        \"std\": 21.913466179497938,\n        \"min\": 514.5,\n        \"max\": 563.5,\n        \"num_unique_values\": 2,\n        \"samples\": [\n          563.5,\n          514.5\n        ],\n        \"semantic_type\": \"\",\n        \"description\": \"\"\n      }\n    },\n    {\n      \"column\": \"X3\",\n      \"properties\": {\n        \"dtype\": \"number\",\n        \"std\": 10.956733089748969,\n        \"min\": 294.0,\n        \"max\": 318.5,\n        \"num_unique_values\": 2,\n        \"samples\": [\n          318.5,\n          294.0\n        ],\n        \"semantic_type\": \"\",\n        \"description\": \"\"\n      }\n    },\n    {\n      \"column\": \"X4\",\n      \"properties\": {\n        \"dtype\": \"number\",\n        \"std\": 5.478366544874485,\n        \"min\": 110.25,\n        \"max\": 122.5,\n        \"num_unique_values\": 2,\n        \"samples\": [\n          122.5,\n          110.25\n        ],\n        \"semantic_type\": \"\",\n        \"description\": \"\"\n      }\n    },\n    {\n      \"column\": \"X5\",\n      \"properties\": {\n        \"dtype\": \"number\",\n        \"std\": 0.0,\n        \"min\": 7.0,\n        \"max\": 7.0,\n        \"num_unique_values\": 1,\n        \"samples\": [\n          7.0\n        ],\n        \"semantic_type\": \"\",\n        \"description\": \"\"\n      }\n    },\n    {\n      \"column\": \"X6\",\n      \"properties\": {\n        \"dtype\": \"number\",\n        \"std\": 1,\n        \"min\": 2,\n        \"max\": 5,\n        \"num_unique_values\": 4,\n        \"samples\": [\n          3\n        ],\n        \"semantic_type\": \"\",\n        \"description\": \"\"\n      }\n    },\n    {\n      \"column\": \"X7\",\n      \"properties\": {\n        \"dtype\": \"number\",\n        \"std\": 0.0,\n        \"min\": 0.0,\n        \"max\": 0.0,\n        \"num_unique_values\": 1,\n        \"samples\": [\n          0.0\n        ],\n        \"semantic_type\": \"\",\n        \"description\": \"\"\n      }\n    },\n    {\n      \"column\": \"X8\",\n      \"properties\": {\n        \"dtype\": \"number\",\n        \"std\": 0,\n        \"min\": 0,\n        \"max\": 0,\n        \"num_unique_values\": 1,\n        \"samples\": [\n          0\n        ],\n        \"semantic_type\": \"\",\n        \"description\": \"\"\n      }\n    },\n    {\n      \"column\": \"Y1\",\n      \"properties\": {\n        \"dtype\": \"number\",\n        \"std\": 2.365759920194777,\n        \"min\": 15.55,\n        \"max\": 20.84,\n        \"num_unique_values\": 2,\n        \"samples\": [\n          20.84\n        ],\n        \"semantic_type\": \"\",\n        \"description\": \"\"\n      }\n    },\n    {\n      \"column\": \"Y2\",\n      \"properties\": {\n        \"dtype\": \"number\",\n        \"std\": 3.108134488724709,\n        \"min\": 21.33,\n        \"max\": 28.28,\n        \"num_unique_values\": 2,\n        \"samples\": [\n          28.28\n        ],\n        \"semantic_type\": \"\",\n        \"description\": \"\"\n      }\n    }\n  ]\n}"
            }
          },
          "metadata": {}
        }
      ]
    },
    {
      "cell_type": "markdown",
      "source": [
        "**Visualisasi hubungan antara variabel independen dan dependen**\n",
        "\n",
        "\n",
        "\n",
        "*   plt.figure(figsize=(8, 6)): Baris ini membuat sebuah \"kanvas kosong\" untuk menggambar plot. Ukuran kanvasnya ditentukan oleh figsize, yaitu 8 inci lebarnya dan 6 inci tingginya.\n",
        "*   plt.scatter(df['X1'], df['Y1'], alpha=0.6): Ini adalah perintah utama untuk membuat scatter plot.\n",
        "*   df['X1'] adalah data yang akan menjadi titik-titik di sumbu X. Dalam kasus ini, data dari kolom 'X1' (Relative Compactness).\n",
        "*   df['Y1'] adalah data yang akan menjadi titik-titik di sumbu Y. Dalam kasus ini, data dari kolom 'Y1' (Heating Load).\n",
        "*   alpha=0.6 mengatur tingkat transparansi titik-titik. Nilai 0.6 berarti titik-titik akan sedikit transparan, jadi jika ada banyak titik yang bertumpuk, kita masih bisa melihatnya.\n",
        "*   plt.title('X1 (Relative Compactness) vs Y1 (Heating Load)'): Menambahkan judul pada plot agar kita tahu apa yang divisualisasikan\n",
        "*   plt.xlabel('X1 (Relative Compactness)'): Memberi label pada sumbu X.\n",
        "*   plt.ylabel('Y1 (Heating Load)'): Memberi label pada sumbu Y.\n",
        "*   plt.grid(True): Menampilkan grid (garis-garis kotak) di plot untuk membantu membaca nilai-nilai.\n",
        "*   plt.show(): Menampilkan plot yang sudah selesai dibuat.\n",
        "\n",
        "\n",
        "\n",
        "\n",
        "\n",
        "\n",
        "\n",
        "\n"
      ],
      "metadata": {
        "id": "8YlFLoOvVpnw"
      }
    },
    {
      "cell_type": "code",
      "source": [
        "plt.figure(figsize=(8, 6))\n",
        "plt.scatter(df['X1'], df['Y1'], alpha=0.6)\n",
        "plt.title('X1 (Relative Compactness) vs Y1 (Heating Load)')\n",
        "plt.xlabel('X1 (Relative Compactness)')\n",
        "plt.ylabel('Y1 (Heating Load)')\n",
        "plt.grid(True)\n",
        "plt.show()"
      ],
      "metadata": {
        "colab": {
          "base_uri": "https://localhost:8080/",
          "height": 564
        },
        "id": "W7jitH96ZWrb",
        "outputId": "d400c6dd-c4b8-46d5-d119-dacdacb56e6b"
      },
      "execution_count": 174,
      "outputs": [
        {
          "output_type": "display_data",
          "data": {
            "text/plain": [
              "<Figure size 800x600 with 1 Axes>"
            ],
            "image/png": "[encoded data removed]"
          },
          "metadata": {}
        }
      ]
    },
    {
      "cell_type": "markdown",
      "source": [
        "**3. Pembangunan Model**"
      ],
      "metadata": {
        "id": "cfDRpeM9W8Z6"
      }
    },
    {
      "cell_type": "markdown",
      "source": [
        "**Gunakan LinearRegression dari sklearn.linear_model**\n",
        "\n",
        "model = LinearRegression()\n",
        "\n",
        "Kode ini berfungsi untuk membuat sebuah objek model regresi linear baru.\n",
        "\n",
        "LinearRegression() adalah \"cetakan\" atau \"kelas\" dari library scikit-learn (sklearn.linear_model) yang kita impor sebelumnya. Cetakan ini berisi semua fungsi dan logika yang dibutuhkan untuk melakukan regresi linear.\n",
        "model = ... ini adalah proses pembuatan \"instance\" atau objek nyata dari cetakan tersebut. Objek ini kita beri nama model."
      ],
      "metadata": {
        "id": "0A5Z4dDxVy8D"
      }
    },
    {
      "cell_type": "code",
      "source": [
        "model = LinearRegression()"
      ],
      "metadata": {
        "id": "4lYbGP4PV8Ct"
      },
      "execution_count": 175,
      "outputs": []
    },
    {
      "cell_type": "markdown",
      "source": [
        "**Pisahkan data menjadi training dan testing set**\n",
        "\n",
        "Kode ini bertujuan untuk membagi dataset kita menjadi dua bagian utama: satu untuk melatih model (training set) dan satu lagi untuk menguji seberapa baik model yang sudah dilatih (testing set).\n",
        "\n",
        "X = df.drop(['Y1', 'Y2'], axis=1): Baris ini membuat DataFrame baru bernama X. DataFrame X ini berisi semua kolom dari DataFrame df kecuali kolom 'Y1' dan 'Y2'.\n",
        "\n",
        "axis=1 menunjukkan bahwa kita ingin menghapus kolom (bukan baris). Jadi, X berisi variabel-variabel independen atau fitur yang akan digunakan untuk memprediksi.\n",
        "\n",
        "\n",
        "y = df['Y1']: Baris ini membuat Series (seperti satu kolom) baru bernama y. y ini berisi data dari kolom 'Y1' saja. Kolom 'Y1' adalah variabel dependen atau target yang ingin kita prediksi (Heating Load).\n",
        "\n",
        "\n",
        "X_train, X_test, y_train, y_test = train_test_split(X, y, test_size=0.3, random_state=42): Ini adalah bagian inti dari pembagian data.\n",
        "\n",
        "\n",
        "train_test_split() adalah fungsi dari scikit-learn yang kita impor sebelumnya.\n",
        "\n",
        "Argumen pertama (X) adalah data fitur.\n",
        "Argumen kedua (y) adalah data target.\n",
        "\n",
        "test_size=0.3: Ini menentukan proporsi data yang akan dialokasikan untuk set pengujian (testing set). Dalam kasus ini, 30% dari total data akan menjadi data pengujian, dan sisanya 70% akan menjadi data pelatihan.\n",
        "\n",
        "random_state=42: Ini adalah angka acak yang digunakan untuk menginisialisasi pembagian. Menggunakan angka yang sama setiap kali menjalankan kode akan memastikan bahwa pembagian data hasilnya selalu sama (reproducible).\n",
        "Hasil dari fungsi ini adalah empat variabel:\n",
        "X_train: Fitur untuk data pelatihan.\n",
        "X_test: Fitur untuk data pengujian.\n",
        "y_train: Target untuk data pelatihan.\n",
        "y_test: Target untuk data pengujian.\n",
        "\n",
        "\n",
        "print(\"Shape of X_train:\", X_train.shape) dan seterusnya: Baris-baris ini mencetak bentuk (jumlah baris dan kolom) dari masing-masing set data yang baru saja dibuat. Ini berguna untuk memverifikasi bahwa pembagian data telah dilakukan dengan benar dan jumlah sampel di setiap set sesuai dengan proporsi yang ditentukan."
      ],
      "metadata": {
        "id": "nYNVjreQV8Yp"
      }
    },
    {
      "cell_type": "code",
      "source": [
        "X = df.drop(['Y1', 'Y2'], axis=1)\n",
        "y = df['Y1']\n",
        "\n",
        "X_train, X_test, y_train, y_test = train_test_split(X, y, test_size=0.3, random_state=42)\n",
        "\n",
        "print(\"Shape of X_train:\", X_train.shape)\n",
        "print(\"Shape of X_test:\", X_test.shape)\n",
        "print(\"Shape of y_train:\", y_train.shape)\n",
        "print(\"Shape of y_test:\", y_test.shape)"
      ],
      "metadata": {
        "id": "cY1EXtVnWDq0",
        "colab": {
          "base_uri": "https://localhost:8080/"
        },
        "outputId": "268485ea-7b8a-4d20-eb1e-08ae1f0e934e"
      },
      "execution_count": 176,
      "outputs": [
        {
          "output_type": "stream",
          "name": "stdout",
          "text": [
            "Shape of X_train: (537, 8)\n",
            "Shape of X_test: (231, 8)\n",
            "Shape of y_train: (537,)\n",
            "Shape of y_test: (231,)\n"
          ]
        }
      ]
    },
    {
      "cell_type": "markdown",
      "source": [
        "**Latih model dengan data training**\n",
        "\n",
        "model.fit(X_train, y_train)\n",
        "\n",
        "> Baris kode ini menggunakan objek model (yang sebelumnya kita buat menggunakan LinearRegression()) dan melatihnya menggunakan data pelatihan:\n",
        "\n",
        "X_train: Ini adalah data fitur (variabel independen) yang kita pisahkan sebelumnya untuk pelatihan.\n",
        "y_train: Ini adalah data target (variabel dependen) yang sesuai dengan X_train, yang juga kita pisahkan sebelumnya.\n",
        "Metode .fit() pada objek model inilah yang melakukan proses pembelajaran. Di balik layar, model akan mencari pola dan hubungan antara X_train dan y_train untuk menemukan koefisien (slope) dan intercept terbaik yang bisa menjelaskan hubungan linear antara fitur dan target dalam data pelatihan.\n",
        "\n",
        "print(\"Model berhasil dilatih!\")\n",
        "\n",
        "> Setelah proses .fit() selesai, baris ini hanya mencetak pesan untuk memberitahukan bahwa model sudah selesai dilatih dan siap untuk digunakan membuat prediksi atau dievaluasi."
      ],
      "metadata": {
        "id": "ilRrt7CUWEDf"
      }
    },
    {
      "cell_type": "code",
      "source": [
        "model.fit(X_train, y_train)\n",
        "print(\"Model berhasil dilatih!\")"
      ],
      "metadata": {
        "id": "j-adUr6iWGwv",
        "colab": {
          "base_uri": "https://localhost:8080/"
        },
        "outputId": "873eafd6-dc05-4725-96a0-1e10a81e86ab"
      },
      "execution_count": 177,
      "outputs": [
        {
          "output_type": "stream",
          "name": "stdout",
          "text": [
            "Model berhasil dilatih!\n"
          ]
        }
      ]
    },
    {
      "cell_type": "markdown",
      "source": [
        "**4. Evaluasi Model**"
      ],
      "metadata": {
        "id": "e09dY9IcXDN4"
      }
    },
    {
      "cell_type": "markdown",
      "source": [
        "**Prediksi pada data testing**\n",
        "\n",
        "Kode ini digunakan untuk melakukan prediksi menggunakan model regresi linear yang telah dilatih sebelumnya. Model menggunakan data fitur dari set pengujian (X_test) sebagai input untuk menghasilkan nilai prediksi untuk variabel dependen (y_pred).\n",
        "\n",
        "Kode ini menggunakan metode .predict() pada objek model untuk menjalankan proses prediksi. Hasil prediksi disimpan dalam variabel y_pred."
      ],
      "metadata": {
        "id": "GJHzzHLDWHNI"
      }
    },
    {
      "cell_type": "code",
      "source": [
        "y_pred = model.predict(X_test)"
      ],
      "metadata": {
        "id": "1DWinx4wWdGc"
      },
      "execution_count": 178,
      "outputs": []
    },
    {
      "cell_type": "markdown",
      "source": [
        "**Nilai koefisien regresi (slope & intercept)**\n",
        "\n",
        "Kode ini mencetak nilai koefisien (slope) dan intercept dari model regresi linear yang telah dilatih.\n",
        "\n",
        "Slope menunjukkan seberapa besar perubahan pada variabel dependen (Y1) untuk setiap perubahan satu unit pada variabel independen (fitur-fitur X), sedangkan intercept menunjukkan nilai prediksi Y1 ketika semua variabel independen bernilai nol."
      ],
      "metadata": {
        "id": "VcvbHPnUWdwH"
      }
    },
    {
      "cell_type": "code",
      "source": [
        "print(\"Slope:\")\n",
        "print(model.coef_)\n",
        "print(\"\\nIntercept:\")\n",
        "print(model.intercept_)"
      ],
      "metadata": {
        "colab": {
          "base_uri": "https://localhost:8080/"
        },
        "id": "iVEon_Dofm91",
        "outputId": "efacbe07-b18b-4d28-8f62-99ff16eb32dd"
      },
      "execution_count": 179,
      "outputs": [
        {
          "output_type": "stream",
          "name": "stdout",
          "text": [
            "Slope:\n",
            "[-6.38718602e+01 -6.19774835e-02  3.72259879e-02 -4.96017357e-02\n",
            "  4.12550582e+00 -2.35796468e-02  1.99266649e+01  2.30732779e-01]\n",
            "\n",
            "Intercept:\n",
            "82.68070734336833\n"
          ]
        }
      ]
    },
    {
      "cell_type": "markdown",
      "source": [
        "**Mean Squared Error (MSE)**\n",
        "\n",
        "Kode ini menghitung Mean Squared Error (MSE), yaitu rata-rata dari kuadrat selisih antara nilai aktual (y_test) dan nilai prediksi (y_pred).\n",
        "MSE adalah metrik untuk mengukur seberapa dekat prediksi model dengan nilai sebenarnya.\n",
        "Kode ini menggunakan fungsi mean_squared_error() untuk melakukan perhitungan tersebut dan kemudian mencetak hasilnya"
      ],
      "metadata": {
        "id": "IXHU7J2oWg1z"
      }
    },
    {
      "cell_type": "code",
      "source": [
        "mse = mean_squared_error(y_test, y_pred)\n",
        "print(f\"Mean Squared Error (MSE): {mse}\")\n",
        "\n",
        "r2 = r2_score(y_test, y_pred)\n",
        "print(f\"R2 Score: {r2}\")"
      ],
      "metadata": {
        "id": "mBQiRRHPWo-Z",
        "colab": {
          "base_uri": "https://localhost:8080/"
        },
        "outputId": "b0a948e0-00d4-4c6d-ac85-8cca67c5de1e"
      },
      "execution_count": 180,
      "outputs": [
        {
          "output_type": "stream",
          "name": "stdout",
          "text": [
            "Mean Squared Error (MSE): 8.839515947384639\n",
            "R2 Score: 0.9128230460075941\n"
          ]
        }
      ]
    },
    {
      "cell_type": "markdown",
      "source": [
        "**5. Visualisasi Hasil**"
      ],
      "metadata": {
        "id": "uX0FQXUjXL9w"
      }
    },
    {
      "cell_type": "markdown",
      "source": [
        "**Plot garis regresi dan titik data aktual**\n",
        "\n",
        "Kode ini digunakan untuk membuat visualisasi yang membandingkan nilai aktual dari target (Y1) dengan nilai yang diprediksi oleh model regresi linear kita (y_pred).\n",
        "\n",
        "1. plt.figure(figsize=(10, 7)): Membuat \"kanvas\" baru untuk plot dengan ukuran lebar 10 inci dan tinggi 7 inci.\n",
        "2. plt.scatter(y_test, y_pred, color='black', alpha=0.6, label='Data Aktual vs Prediksi'): Membuat diagram pencar (scatter plot).\n",
        "3. y_test: Data di sumbu X, yaitu nilai Y1 yang sebenarnya (aktual) dari data pengujian.\n",
        "4. y_pred: Data di sumbu Y, yaitu nilai Y1 yang diprediksi oleh model untuk data pengujian yang sama.\n",
        "5. color='red': Mengatur warna titik-titik menjadi hitam.\n",
        "6. alpha=0.6: Mengatur transparansi titik-titik agar tumpukan titik terlihat.\n",
        "7. label='Data Aktual vs Prediksi': Memberi label pada titik-titik ini untuk legenda.\n",
        "8. plt.plot([y_test.min(), y_test.max()], [y_test.min(), y_test.max()], color='blue', linewidth=3, label='Garis Ideal (Prediksi = Aktual)'): Menambahkan garis lurus ke plot.\n",
        "9. [y_test.min(), y_test.max()]: Ini adalah koordinat X untuk garis. Garis akan membentang dari nilai minimum y_test hingga nilai maksimum y_test.\n",
        "10. [y_test.min(), y_test.max()]: Ini adalah koordinat Y untuk garis. Karena koordinat X dan Y sama, garis ini akan memiliki kemiringan 1 dan melewati titik (0,0) jika ada, atau lebih tepatnya, ini adalah garis y = x jika sumbu X dan Y memiliki skala yang sama. Garis ini merepresentasikan situasi ideal di mana nilai prediksi sama persis dengan nilai aktual.\n",
        "11. color='blue': Mengatur warna garis menjadi biru.\n",
        "12. linewidth=3: Mengatur ketebalan garis.\n",
        "13. label='Garis Ideal (Prediksi = Aktual)': Memberi label pada garis ini untuk legenda.\n",
        "14. plt.title('Perbandingan Nilai Aktual dan Hasil Prediksi'): Menambahkan judul pada plot.\n",
        "15. plt.xlabel('Nilai Aktual (Y1)'): Memberi label pada sumbu X.\n",
        "16. plt.ylabel('Hasil Prediksi (Y1)'): Memberi label pada sumbu Y.\n",
        "17. plt.legend(): Menampilkan legenda pada plot, menjelaskan titik-titik dan garis.\n",
        "18. plt.grid(True): Menampilkan grid pada plot.\n",
        "19. plt.show(): Menampilkan plot."
      ],
      "metadata": {
        "id": "f7kwlVpS3keI"
      }
    },
    {
      "cell_type": "code",
      "metadata": {
        "colab": {
          "base_uri": "https://localhost:8080/",
          "height": 641
        },
        "id": "9c0c1410",
        "outputId": "e4f6f177-0758-4585-f376-3d231df10580"
      },
      "source": [
        "plt.figure(figsize=(10, 7))\n",
        "plt.scatter(y_test, y_pred, color='black', alpha=0.6, label='Data Aktual vs Prediksi')\n",
        "plt.plot([y_test.min(), y_test.max()], [y_test.min(), y_test.max()], color='blue', linewidth=3, label='Garis Ideal (Prediksi = Aktual)')\n",
        "plt.title('Perbandingan Nilai Aktual dan Hasil Prediksi')\n",
        "plt.xlabel('Nilai Aktual (Y1)')\n",
        "plt.ylabel('Hasil Prediksi (Y1)')\n",
        "plt.legend()\n",
        "plt.grid(True)\n",
        "plt.show()"
      ],
      "execution_count": 181,
      "outputs": [
        {
          "output_type": "display_data",
          "data": {
            "text/plain": [
              "<Figure size 1000x700 with 1 Axes>"
            ],
            "image/png": "[encoded data removed]"
          },
          "metadata": {}
        }
      ]
    },
    {
      "cell_type": "markdown",
      "source": [
        "**Perbandingan hasil prediksi dengan nilai aktual**\n",
        "\n",
        "Kode ini membuat sebuah DataFrame pandas bernama comparison_df yang berisi dua kolom: 'Nilai Aktual' (dari y_test) dan 'Hasil Prediksi' (dari y_pred). Kemudian, kode ini mencetak judul dan lima baris pertama (.head()) dari DataFrame tersebut untuk menampilkan perbandingan awal antara nilai aktual dan hasil prediksi model."
      ],
      "metadata": {
        "id": "q8YZG3qmWrME"
      }
    },
    {
      "cell_type": "code",
      "source": [
        "comparison_df = pd.DataFrame({'Nilai Aktual': y_test, 'Hasil Prediksi': y_pred})\n",
        "\n",
        "print(\"Perbandingan Nilai Aktual dan Hasil Prediksi:\")\n",
        "display(comparison_df.head())"
      ],
      "metadata": {
        "id": "hC3Tz05jWumk",
        "colab": {
          "base_uri": "https://localhost:8080/",
          "height": 223
        },
        "outputId": "78448f06-c6b8-416d-fcf9-1d7a0132aea0"
      },
      "execution_count": 182,
      "outputs": [
        {
          "output_type": "stream",
          "name": "stdout",
          "text": [
            "Perbandingan Nilai Aktual dan Hasil Prediksi:\n"
          ]
        },
        {
          "output_type": "display_data",
          "data": {
            "text/plain": [
              "     Nilai Aktual  Hasil Prediksi\n",
              "668         16.47       18.769702\n",
              "324         13.17       13.977185\n",
              "624         32.82       31.168964\n",
              "690         41.32       35.897159\n",
              "473         16.69       15.316830"
            ],
            "text/html": [
              "\n",
              "  <div id=\"df-55e8cece-9ce0-4353-8b7c-25dab87b93ed\" class=\"colab-df-container\">\n",
              "    <div>\n",
              "<style scoped>\n",
              "    .dataframe tbody tr th:only-of-type {\n",
              "        vertical-align: middle;\n",
              "    }\n",
              "\n",
              "    .dataframe tbody tr th {\n",
              "        vertical-align: top;\n",
              "    }\n",
              "\n",
              "    .dataframe thead th {\n",
              "        text-align: right;\n",
              "    }\n",
              "</style>\n",
              "<table border=\"1\" class=\"dataframe\">\n",
              "  <thead>\n",
              "    <tr style=\"text-align: right;\">\n",
              "      <th></th>\n",
              "      <th>Nilai Aktual</th>\n",
              "      <th>Hasil Prediksi</th>\n",
              "    </tr>\n",
              "  </thead>\n",
              "  <tbody>\n",
              "    <tr>\n",
              "      <th>668</th>\n",
              "      <td>16.47</td>\n",
              "      <td>18.769702</td>\n",
              "    </tr>\n",
              "    <tr>\n",
              "      <th>324</th>\n",
              "      <td>13.17</td>\n",
              "      <td>13.977185</td>\n",
              "    </tr>\n",
              "    <tr>\n",
              "      <th>624</th>\n",
              "      <td>32.82</td>\n",
              "      <td>31.168964</td>\n",
              "    </tr>\n",
              "    <tr>\n",
              "      <th>690</th>\n",
              "      <td>41.32</td>\n",
              "      <td>35.897159</td>\n",
              "    </tr>\n",
              "    <tr>\n",
              "      <th>473</th>\n",
              "      <td>16.69</td>\n",
              "      <td>15.316830</td>\n",
              "    </tr>\n",
              "  </tbody>\n",
              "</table>\n",
              "</div>\n",
              "    <div class=\"colab-df-buttons\">\n",
              "\n",
              "  <div class=\"colab-df-container\">\n",
              "    <button class=\"colab-df-convert\" onclick=\"convertToInteractive('df-55e8cece-9ce0-4353-8b7c-25dab87b93ed')\"\n",
              "            title=\"Convert this dataframe to an interactive table.\"\n",
              "            style=\"display:none;\">\n",
              "\n",
              "  <svg xmlns=\"http://www.w3.org/2000/svg\" height=\"24px\" viewBox=\"0 -960 960 960\">\n",
              "    <path d=\"M120-120v-720h720v720H120Zm60-500h600v-160H180v160Zm220 220h160v-160H400v160Zm0 220h160v-160H400v160ZM180-400h160v-160H180v160Zm440 0h160v-160H620v160ZM180-180h160v-160H180v160Zm440 0h160v-160H620v160Z\"/>\n",
              "  </svg>\n",
              "    </button>\n",
              "\n",
              "  <style>\n",
              "    .colab-df-container {\n",
              "      display:flex;\n",
              "      gap: 12px;\n",
              "    }\n",
              "\n",
              "    .colab-df-convert {\n",
              "      background-color: #E8F0FE;\n",
              "      border: none;\n",
              "      border-radius: 50%;\n",
              "      cursor: pointer;\n",
              "      display: none;\n",
              "      fill: #1967D2;\n",
              "      height: 32px;\n",
              "      padding: 0 0 0 0;\n",
              "      width: 32px;\n",
              "    }\n",
              "\n",
              "    .colab-df-convert:hover {\n",
              "      background-color: #E2EBFA;\n",
              "      box-shadow: 0px 1px 2px rgba(60, 64, 67, 0.3), 0px 1px 3px 1px rgba(60, 64, 67, 0.15);\n",
              "      fill: #174EA6;\n",
              "    }\n",
              "\n",
              "    .colab-df-buttons div {\n",
              "      margin-bottom: 4px;\n",
              "    }\n",
              "\n",
              "    [theme=dark] .colab-df-convert {\n",
              "      background-color: #3B4455;\n",
              "      fill: #D2E3FC;\n",
              "    }\n",
              "\n",
              "    [theme=dark] .colab-df-convert:hover {\n",
              "      background-color: #434B5C;\n",
              "      box-shadow: 0px 1px 3px 1px rgba(0, 0, 0, 0.15);\n",
              "      filter: drop-shadow(0px 1px 2px rgba(0, 0, 0, 0.3));\n",
              "      fill: #FFFFFF;\n",
              "    }\n",
              "  </style>\n",
              "\n",
              "    <script>\n",
              "      const buttonEl =\n",
              "        document.querySelector('#df-55e8cece-9ce0-4353-8b7c-25dab87b93ed button.colab-df-convert');\n",
              "      buttonEl.style.display =\n",
              "        google.colab.kernel.accessAllowed ? 'block' : 'none';\n",
              "\n",
              "      async function convertToInteractive(key) {\n",
              "        const element = document.querySelector('#df-55e8cece-9ce0-4353-8b7c-25dab87b93ed');\n",
              "        const dataTable =\n",
              "          await google.colab.kernel.invokeFunction('convertToInteractive',\n",
              "                                                    [key], {});\n",
              "        if (!dataTable) return;\n",
              "\n",
              "        const docLinkHtml = 'Like what you see? Visit the ' +\n",
              "          '<a target=\"_blank\" href=https://colab.research.google.com/notebooks/data_table.ipynb>data table notebook</a>'\n",
              "          + ' to learn more about interactive tables.';\n",
              "        element.innerHTML = '';\n",
              "        dataTable['output_type'] = 'display_data';\n",
              "        await google.colab.output.renderOutput(dataTable, element);\n",
              "        const docLink = document.createElement('div');\n",
              "        docLink.innerHTML = docLinkHtml;\n",
              "        element.appendChild(docLink);\n",
              "      }\n",
              "    </script>\n",
              "  </div>\n",
              "\n",
              "\n",
              "    <div id=\"df-d2651564-4ab5-4f33-b365-f20c6fa03c8c\">\n",
              "      <button class=\"colab-df-quickchart\" onclick=\"quickchart('df-d2651564-4ab5-4f33-b365-f20c6fa03c8c')\"\n",
              "                title=\"Suggest charts\"\n",
              "                style=\"display:none;\">\n",
              "\n",
              "<svg xmlns=\"http://www.w3.org/2000/svg\" height=\"24px\"viewBox=\"0 0 24 24\"\n",
              "     width=\"24px\">\n",
              "    <g>\n",
              "        <path d=\"M19 3H5c-1.1 0-2 .9-2 2v14c0 1.1.9 2 2 2h14c1.1 0 2-.9 2-2V5c0-1.1-.9-2-2-2zM9 17H7v-7h2v7zm4 0h-2V7h2v10zm4 0h-2v-4h2v4z\"/>\n",
              "    </g>\n",
              "</svg>\n",
              "      </button>\n",
              "\n",
              "<style>\n",
              "  .colab-df-quickchart {\n",
              "      --bg-color: #E8F0FE;\n",
              "      --fill-color: #1967D2;\n",
              "      --hover-bg-color: #E2EBFA;\n",
              "      --hover-fill-color: #174EA6;\n",
              "      --disabled-fill-color: #AAA;\n",
              "      --disabled-bg-color: #DDD;\n",
              "  }\n",
              "\n",
              "  [theme=dark] .colab-df-quickchart {\n",
              "      --bg-color: #3B4455;\n",
              "      --fill-color: #D2E3FC;\n",
              "      --hover-bg-color: #434B5C;\n",
              "      --hover-fill-color: #FFFFFF;\n",
              "      --disabled-bg-color: #3B4455;\n",
              "      --disabled-fill-color: #666;\n",
              "  }\n",
              "\n",
              "  .colab-df-quickchart {\n",
              "    background-color: var(--bg-color);\n",
              "    border: none;\n",
              "    border-radius: 50%;\n",
              "    cursor: pointer;\n",
              "    display: none;\n",
              "    fill: var(--fill-color);\n",
              "    height: 32px;\n",
              "    padding: 0;\n",
              "    width: 32px;\n",
              "  }\n",
              "\n",
              "  .colab-df-quickchart:hover {\n",
              "    background-color: var(--hover-bg-color);\n",
              "    box-shadow: 0 1px 2px rgba(60, 64, 67, 0.3), 0 1px 3px 1px rgba(60, 64, 67, 0.15);\n",
              "    fill: var(--button-hover-fill-color);\n",
              "  }\n",
              "\n",
              "  .colab-df-quickchart-complete:disabled,\n",
              "  .colab-df-quickchart-complete:disabled:hover {\n",
              "    background-color: var(--disabled-bg-color);\n",
              "    fill: var(--disabled-fill-color);\n",
              "    box-shadow: none;\n",
              "  }\n",
              "\n",
              "  .colab-df-spinner {\n",
              "    border: 2px solid var(--fill-color);\n",
              "    border-color: transparent;\n",
              "    border-bottom-color: var(--fill-color);\n",
              "    animation:\n",
              "      spin 1s steps(1) infinite;\n",
              "  }\n",
              "\n",
              "  @keyframes spin {\n",
              "    0% {\n",
              "      border-color: transparent;\n",
              "      border-bottom-color: var(--fill-color);\n",
              "      border-left-color: var(--fill-color);\n",
              "    }\n",
              "    20% {\n",
              "      border-color: transparent;\n",
              "      border-left-color: var(--fill-color);\n",
              "      border-top-color: var(--fill-color);\n",
              "    }\n",
              "    30% {\n",
              "      border-color: transparent;\n",
              "      border-left-color: var(--fill-color);\n",
              "      border-top-color: var(--fill-color);\n",
              "      border-right-color: var(--fill-color);\n",
              "    }\n",
              "    40% {\n",
              "      border-color: transparent;\n",
              "      border-right-color: var(--fill-color);\n",
              "      border-top-color: var(--fill-color);\n",
              "    }\n",
              "    60% {\n",
              "      border-color: transparent;\n",
              "      border-right-color: var(--fill-color);\n",
              "    }\n",
              "    80% {\n",
              "      border-color: transparent;\n",
              "      border-right-color: var(--fill-color);\n",
              "      border-bottom-color: var(--fill-color);\n",
              "    }\n",
              "    90% {\n",
              "      border-color: transparent;\n",
              "      border-bottom-color: var(--fill-color);\n",
              "    }\n",
              "  }\n",
              "</style>\n",
              "\n",
              "      <script>\n",
              "        async function quickchart(key) {\n",
              "          const quickchartButtonEl =\n",
              "            document.querySelector('#' + key + ' button');\n",
              "          quickchartButtonEl.disabled = true;  // To prevent multiple clicks.\n",
              "          quickchartButtonEl.classList.add('colab-df-spinner');\n",
              "          try {\n",
              "            const charts = await google.colab.kernel.invokeFunction(\n",
              "                'suggestCharts', [key], {});\n",
              "          } catch (error) {\n",
              "            console.error('Error during call to suggestCharts:', error);\n",
              "          }\n",
              "          quickchartButtonEl.classList.remove('colab-df-spinner');\n",
              "          quickchartButtonEl.classList.add('colab-df-quickchart-complete');\n",
              "        }\n",
              "        (() => {\n",
              "          let quickchartButtonEl =\n",
              "            document.querySelector('#df-d2651564-4ab5-4f33-b365-f20c6fa03c8c button');\n",
              "          quickchartButtonEl.style.display =\n",
              "            google.colab.kernel.accessAllowed ? 'block' : 'none';\n",
              "        })();\n",
              "      </script>\n",
              "    </div>\n",
              "\n",
              "    </div>\n",
              "  </div>\n"
            ],
            "application/vnd.google.colaboratory.intrinsic+json": {
              "type": "dataframe",
              "summary": "{\n  \"name\": \"display(comparison_df\",\n  \"rows\": 5,\n  \"fields\": [\n    {\n      \"column\": \"Nilai Aktual\",\n      \"properties\": {\n        \"dtype\": \"number\",\n        \"std\": 12.299964634095499,\n        \"min\": 13.17,\n        \"max\": 41.32,\n        \"num_unique_values\": 5,\n        \"samples\": [\n          13.17,\n          16.69,\n          32.82\n        ],\n        \"semantic_type\": \"\",\n        \"description\": \"\"\n      }\n    },\n    {\n      \"column\": \"Hasil Prediksi\",\n      \"properties\": {\n        \"dtype\": \"number\",\n        \"std\": 9.891954003713995,\n        \"min\": 13.977185376986483,\n        \"max\": 35.89715870839407,\n        \"num_unique_values\": 5,\n        \"samples\": [\n          13.977185376986483,\n          15.316829626161237,\n          31.16896390342403\n        ],\n        \"semantic_type\": \"\",\n        \"description\": \"\"\n      }\n    }\n  ]\n}"
            }
          },
          "metadata": {}
        }
      ]
    },
    {
      "cell_type": "markdown",
      "source": [
        "**6. Analisis dan Kesimpulan**"
      ],
      "metadata": {
        "id": "BBFAjpNsXRnz"
      }
    },
    {
      "cell_type": "markdown",
      "source": [
        "**Analisis dan Kesimpulan:**\n",
        "1. Apa makna dari slope dan intercept?\n",
        "Slope adalah nilai yang menunjukkan\n",
        "\n",
        "*   Slope adalah nilai yang menunjukkan tingkat perubahan atau gradien dari variabel dependen (Y) untuk setiap kenaikan satu unit pada variabel independen (X).\n",
        "*   Intercept adalah nilai konstanta yang merepresentasikan titik potong garis regresi dengan sumbu Y, atau dengan kata lain, nilai prediksi Y ketika semua variabel independen (X) bernilai nol.\n",
        "2. Seberapa baik model memprediksi data?\n",
        "Berdasarkan scatter plot dan perbandingan yang dilakukan, model regresi linear cukup baik namun belum optimal. Dari grafik terlihat bahwa masih cukup banyak data aktual (titik hitam) yang tersebar cukup jauh dari garis prediksi. Hal ini dibuktikan pula pada tabel perbandingan yang menunjukkan selisih prediksi cukup besar.\n",
        "3. Apakah ada indikasi overfitting atau underfitting?\n",
        "Ya, ada indikasi underfitting. Hal ini terjadi karena dalam scatter plot terlihat garis regresi linear lurus dengan cukup banyak titik data tersebar jauh dari garis prediksi baik di atas maupun di bawah."
      ],
      "metadata": {
        "id": "qm4Xaj-KWvLR"
      }
    }
  ]
}